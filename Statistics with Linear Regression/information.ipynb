{
 "cells": [
  {
   "cell_type": "markdown",
   "metadata": {},
   "source": [
    "# <center>Đồ án : Linear Regression</center>"
   ]
  },
  {
   "cell_type": "markdown",
   "metadata": {},
   "source": [
    "## Mục lục\n",
    "\n",
    "[Nội dung đồ án](#c1)\n",
    "    - [Mô tả dữ liệu](#c11)\n",
    "  "
   ]
  },
  {
   "cell_type": "markdown",
   "metadata": {},
   "source": [
    "## Nội dung đồ án <a class=\"anchor\" id=\"c1\"></a>"
   ]
  },
  {
   "cell_type": "markdown",
   "metadata": {},
   "source": [
    "### Mô tả dữ liệu <a class=\"anchor\" id=\"c11\"></a>"
   ]
  },
  {
   "cell_type": "markdown",
   "metadata": {},
   "source": [
    "#### Dữ liệu Tuổi thọ trung bình (Life expectancy)"
   ]
  },
  {
   "cell_type": "markdown",
   "metadata": {},
   "source": [
    "Dữ liệu tuổi thọ trung bình được thu thập từ tổ chức WHO và trang web United Nations từ năm 2000 đến 2015 trên tất cả quốc gia.\n",
    "\n",
    "Bộ dữ liệu có 2938 dòng và 22 cột. Ý nghĩa và kiểu dữ liệu của từng cột được thể hiện ở bảng sau:\n",
    "\n",
    "| STT | Tên cột                         | Ý nghĩa                                                                                   | Kiểu dữ liệu |\n",
    "|:---:|:---------------------------------|:-------------------------------------------------------------------------------------------|:------------:|\n",
    "|  1  | Country                         | Tên quốc gia                                                                              |    String    |\n",
    "|  2  | Year                            | Năm                                                                                       |    Integer   |\n",
    "|  3  | Status                          | Đất nước phát triển hay đang phát triển                                                   |    String    |\n",
    "|  4  | Life expectancy                 | Tuổi thọ trung bình                                                                       |    Decimal   |\n",
    "|  5  | Adult mortality                 | Tỉ lệ tử vong ở người trưởng thành trên 1000 dân số (độ tuổi từ 15 đến 60)                |    Decimal   |\n",
    "|  6  | Infant deaths                   | Số trẻ sơ sinh tử vong trên 1000 dân số                                                   |    Decimal   |\n",
    "|  7  | Alcohol                         | Mức tiêu thụ rượu bình quân đầu người (từ 15 tuổi) - tính trên lít rượu nguyên chất       |    Decimal   |\n",
    "|  8  | percentage expenditure          | Chi tiêu cho y tế tính theo phần trăm GDP (%)                                             |    Decimal   |\n",
    "|  9  | Hepatitis B                     | Tỉ lệ tiêm chủng viêm gan B ở trẻ 1 tuổi (%)                                              |    Decimal   |\n",
    "|  10 | Measles                         | Số ca mắc bệnh sởi được báo cáo tính trên 1000 dân số                                     |    Integer   |\n",
    "|  11 | BMI                             | Chỉ số khối lượng cơ thể (BMI) trung bình của toàn bộ dân số                              |    Decimal   |\n",
    "|  12 | under-five deaths               | Số lượng người tử vong dưới 5 tuổi trên 1000 dân số                                          |    Integer   |\n",
    "|  13 | Polio                           | Tỉ lệ tiêm chủng bại liệt (Pol3) ở trẻ 1 tuổi (%)                                         |    Decimal   |\n",
    "|  14 | Total expenditure               | Chi tiêu chung cho y tế tính tính theo phần trăm tổng chi tiêu của chính phủ              |    Decimal   |\n",
    "|  15 | Diphtheria                      | Tỉ lệ tiêm chủng giải độc uốn ván và ho gà (DTP3) ở trẻ 1 tuổi (%)                        |    Decimal   |\n",
    "|  16 | HIV/AIDS                        | Tỉ lệ tử vong trên 1000 trẻ nhiễm HIV/AIDS (từ 0 đến 4 tuổi)                              |    Decimal   |\n",
    "|  17 | GPD                             | Tổng sản phẩm quốc nội bình quân đầu người (đơn vị USD)                                   |    Decimal   |\n",
    "|  18 | Population                      | Dân số quốc gia                                                                           |    Decimal   |\n",
    "|  19 | thinness 1-19 years             | Tỉ lệ gầy ốm ở trẻ em và thanh thiếu niên từ 10-19 tuổi (%)                               |    Decimal   |\n",
    "|  20 | thinness 5-9 years              | Tỉ lệ gầy ốm ở trẻ em từ 5-9 tuổi (%)                                                     |    Decimal   |\n",
    "|  21 | Income composition of resources | Chỉ số phát triển con người (HDI) tính theo thành phần thu nhập tài nguyên (thuộc [0, 1]) |    Decimal   |\n",
    "|  22 | Schooling                       | Số năm đi học                                                                             |    Decimal   |\n",
    "\n",
    "Sinh viên đọc thêm về dữ liệu tại: [Life Expectancy (WHO)](https://www.kaggle.com/datasets/kumarajarshi/life-expectancy-who)."
   ]
  },
  {
   "cell_type": "markdown",
   "metadata": {},
   "source": [
    "#### Dữ liệu sử dụng cho đồ án"
   ]
  },
  {
   "cell_type": "markdown",
   "metadata": {},
   "source": [
    "Trong đồ án này, dữ liệu trên đã được thực hiện các bước tiền xử lý sau:\n",
    "1. Loại bỏ các dòng dữ liệu không có đầy đủ thông tin (có giá trị NaN trong dòng)\n",
    "2. Chỉ chọn các dòng liên quan đến top 95 quốc gia có dân số đông nhất\n",
    "3. Chuẩn hóa và đổi tên một số đặc trưng: `thinness 1-19 years` $\\to$ `Thinness age 10-19`, `thinness 5-9 years` $\\to$ `Thinness age 5-9`\n",
    "4. Loại bỏ 2 cột có giá trị là chuỗi:  `Country`, `Status`\n",
    "5. Dựa trên độ đo tương quan, loại bỏ 9 cột ít liên quan đến giá trị mục tiêu (`Life expectancy`) nhất: `Population`, `Measles`, `Year`, `infant deaths`, `Total expenditure`, `under-five deaths`, `Hepatitis B`, `percentage expenditure`, `Alcohol`\n",
    "\n",
    "Sau quá trình tiền xử lý, dữ liệu mới có:\n",
    "- 1180 dòng dữ liệu\n",
    "- 11 cột dữ liệu gồm:\n",
    "    - 1 giá trị mục tiêu ($y$): `Life expectancy`\n",
    "    - 10 đặc trưng giải thích $(X)$ (đặc trưng giúp tìm giá trị mục tiêu) gồm: `Adult Mortality`, `BMI`, `Polio`, `Diphtheria`, `HIV/AIDS`, `GDP`, `Thinness age 10-19`, `Thinness age 5-9`, `Income composition of resources`, `Schooling`, `Life expectancy`\n",
    "\n",
    "Sinh viên được cung cấp 2 tập tin:\n",
    "- `train.csv`: Chứa 1085 mẫu dùng để huấn luyện mô hình\n",
    "- `test.csv`: Chứa 95 mẫu dùng để kiểm tra mô hình\n",
    "\n",
    "Đoạn mã nguồn sau để thể hiện 5 mẫu dữ liệu đầu tiên trong tập `train.csv`."
   ]
  },
  {
   "cell_type": "code",
   "execution_count": 1,
   "metadata": {},
   "outputs": [
    {
     "data": {
      "text/html": [
       "<div>\n",
       "<style scoped>\n",
       "    .dataframe tbody tr th:only-of-type {\n",
       "        vertical-align: middle;\n",
       "    }\n",
       "\n",
       "    .dataframe tbody tr th {\n",
       "        vertical-align: top;\n",
       "    }\n",
       "\n",
       "    .dataframe thead th {\n",
       "        text-align: right;\n",
       "    }\n",
       "</style>\n",
       "<table border=\"1\" class=\"dataframe\">\n",
       "  <thead>\n",
       "    <tr style=\"text-align: right;\">\n",
       "      <th></th>\n",
       "      <th>Adult Mortality</th>\n",
       "      <th>BMI</th>\n",
       "      <th>Polio</th>\n",
       "      <th>Diphtheria</th>\n",
       "      <th>HIV/AIDS</th>\n",
       "      <th>GDP</th>\n",
       "      <th>Thinness age 10-19</th>\n",
       "      <th>Thinness age 5-9</th>\n",
       "      <th>Income composition of resources</th>\n",
       "      <th>Schooling</th>\n",
       "      <th>Life expectancy</th>\n",
       "    </tr>\n",
       "  </thead>\n",
       "  <tbody>\n",
       "    <tr>\n",
       "      <th>0</th>\n",
       "      <td>268.0</td>\n",
       "      <td>18.1</td>\n",
       "      <td>62.0</td>\n",
       "      <td>64.0</td>\n",
       "      <td>0.1</td>\n",
       "      <td>631.744976</td>\n",
       "      <td>17.7</td>\n",
       "      <td>17.7</td>\n",
       "      <td>0.470</td>\n",
       "      <td>9.9</td>\n",
       "      <td>59.9</td>\n",
       "    </tr>\n",
       "    <tr>\n",
       "      <th>1</th>\n",
       "      <td>272.0</td>\n",
       "      <td>17.6</td>\n",
       "      <td>67.0</td>\n",
       "      <td>67.0</td>\n",
       "      <td>0.1</td>\n",
       "      <td>669.959000</td>\n",
       "      <td>17.9</td>\n",
       "      <td>18.0</td>\n",
       "      <td>0.463</td>\n",
       "      <td>9.8</td>\n",
       "      <td>59.5</td>\n",
       "    </tr>\n",
       "    <tr>\n",
       "      <th>2</th>\n",
       "      <td>275.0</td>\n",
       "      <td>17.2</td>\n",
       "      <td>68.0</td>\n",
       "      <td>68.0</td>\n",
       "      <td>0.1</td>\n",
       "      <td>63.537231</td>\n",
       "      <td>18.2</td>\n",
       "      <td>18.2</td>\n",
       "      <td>0.454</td>\n",
       "      <td>9.5</td>\n",
       "      <td>59.2</td>\n",
       "    </tr>\n",
       "    <tr>\n",
       "      <th>3</th>\n",
       "      <td>279.0</td>\n",
       "      <td>16.7</td>\n",
       "      <td>66.0</td>\n",
       "      <td>66.0</td>\n",
       "      <td>0.1</td>\n",
       "      <td>553.328940</td>\n",
       "      <td>18.4</td>\n",
       "      <td>18.4</td>\n",
       "      <td>0.448</td>\n",
       "      <td>9.2</td>\n",
       "      <td>58.8</td>\n",
       "    </tr>\n",
       "    <tr>\n",
       "      <th>4</th>\n",
       "      <td>281.0</td>\n",
       "      <td>16.2</td>\n",
       "      <td>63.0</td>\n",
       "      <td>63.0</td>\n",
       "      <td>0.1</td>\n",
       "      <td>445.893298</td>\n",
       "      <td>18.6</td>\n",
       "      <td>18.7</td>\n",
       "      <td>0.434</td>\n",
       "      <td>8.9</td>\n",
       "      <td>58.6</td>\n",
       "    </tr>\n",
       "  </tbody>\n",
       "</table>\n",
       "</div>"
      ],
      "text/plain": [
       "   Adult Mortality   BMI  Polio  Diphtheria  HIV/AIDS         GDP  \\\n",
       "0            268.0  18.1   62.0        64.0       0.1  631.744976   \n",
       "1            272.0  17.6   67.0        67.0       0.1  669.959000   \n",
       "2            275.0  17.2   68.0        68.0       0.1   63.537231   \n",
       "3            279.0  16.7   66.0        66.0       0.1  553.328940   \n",
       "4            281.0  16.2   63.0        63.0       0.1  445.893298   \n",
       "\n",
       "   Thinness age 10-19  Thinness age 5-9  Income composition of resources  \\\n",
       "0                17.7              17.7                            0.470   \n",
       "1                17.9              18.0                            0.463   \n",
       "2                18.2              18.2                            0.454   \n",
       "3                18.4              18.4                            0.448   \n",
       "4                18.6              18.7                            0.434   \n",
       "\n",
       "   Schooling  Life expectancy  \n",
       "0        9.9             59.9  \n",
       "1        9.8             59.5  \n",
       "2        9.5             59.2  \n",
       "3        9.2             58.8  \n",
       "4        8.9             58.6  "
      ]
     },
     "execution_count": 1,
     "metadata": {},
     "output_type": "execute_result"
    }
   ],
   "source": [
    "import pandas as pd\n",
    "train = pd.read_csv('train.csv')\n",
    "train.head()"
   ]
  }
 ],
 "metadata": {
  "kernelspec": {
   "display_name": "Python 3 (ipykernel)",
   "language": "python",
   "name": "python3"
  },
  "language_info": {
   "codemirror_mode": {
    "name": "ipython",
    "version": 3
   },
   "file_extension": ".py",
   "mimetype": "text/x-python",
   "name": "python",
   "nbconvert_exporter": "python",
   "pygments_lexer": "ipython3",
   "version": "3.10.9"
  },
  "vscode": {
   "interpreter": {
    "hash": "15af99fd1a1a3f0a3416ea421564e792a8676a13670c2eed127d89ab0518a27b"
   }
  }
 },
 "nbformat": 4,
 "nbformat_minor": 2
}
